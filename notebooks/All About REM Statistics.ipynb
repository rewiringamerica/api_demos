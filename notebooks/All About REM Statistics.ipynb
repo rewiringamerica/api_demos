{
 "cells": [
  {
   "cell_type": "markdown",
   "id": "15765978-ee13-4139-969f-440222df8830",
   "metadata": {},
   "source": [
    "# All About REM API Statistics\n",
    "\n",
    "In order to make estimates for the impact of an electrical upgrade\n",
    "on a home, the REM API does a\n",
    "[Monte Carlo](https://en.wikipedia.org/wiki/Monte_Carlo_method)\n",
    "simulation over a number of theoretical homes that closely\n",
    "resemble the target home and, taken as a whole, \n",
    "probabilistically represent it. \n",
    "\n",
    "We do this because we generally don't know everything about each\n",
    "home. We have a large database of home properties\n",
    "that tells us things like when a home what built and how many square feet\n",
    "it is. But it does not give us all the details that we need to accurately\n",
    "predict savings. So instead we sample theoretical homes from a \n",
    "[conditional probability distribution](https://github.com/NREL/resstock/tree/develop/project_national/housing_characteristics) based on the properties\n",
    "that we do know. We then predict the energy consumption for each \n",
    "sample home using a machine learning model, which yields\n",
    "a distribution of outcomes that probabilistically represents the\n",
    "query home's energy consumption under the baseline and upgrade scenarios.\n",
    "We compute statistics across the this distribution to decide\n",
    "what is likely to happen in the query home.\n",
    "\n",
    "This means that instead of getting one answer for\n",
    "how much less fuel oil the home will use or how\n",
    "much money the homeowner will save each year, it generates\n",
    "many answers to the question, each based on one\n",
    "theoretical home.\n",
    "\n",
    "In the return value from the API, we get statistics across\n",
    "those theoretical homes including the mean, median, and 20th\n",
    "and 80th percentile values for savings, emissions, and so on.\n",
    "\n",
    "The purpose of this notebook is to illustrate how those statistics\n",
    "work, describe how they are computed, and discuss how and why\n",
    "they should or should not be used in particular ways.\n",
    "\n",
    "To learn more about modeling only baseline\n",
    "view the [REM Core Demo notebook](https://github.com/rewiringamerica/api_demos/tree/main/notebooks/REM%20Demo).\n",
    "\n",
    "\n",
    "## Imports and Configuration"
   ]
  },
  {
   "cell_type": "code",
   "execution_count": 1,
   "id": "27e49c93-57d7-4ee9-bb54-623b50e4e87c",
   "metadata": {},
   "outputs": [],
   "source": [
    "import requests\n",
    "from pathlib import Path"
   ]
  },
  {
   "cell_type": "code",
   "execution_count": 2,
   "id": "cecd5ef2-6a34-4752-9899-fc3fe519c3d9",
   "metadata": {},
   "outputs": [],
   "source": [
    "HOST = \"https://api.rewiringamerica.org\"\n",
    "REM_ADDRESS_URL = f\"{HOST}/api/v1/rem/address\"\n",
    "\n",
    "API_KEY = None  # Put your API key here, or better yet in the file ~/.rwapi/api_key.txt"
   ]
  },
  {
   "cell_type": "code",
   "execution_count": 3,
   "id": "654ba342-e8d5-480b-9bcc-cd9e226b1122",
   "metadata": {},
   "outputs": [],
   "source": [
    "if API_KEY is None:\n",
    "    api_key_path = Path.home() / \".rwapi\" / \"api_key.txt\"\n",
    "\n",
    "    if api_key_path.is_file():\n",
    "        with open(api_key_path) as f:\n",
    "            API_KEY = f.read().strip()"
   ]
  },
  {
   "cell_type": "markdown",
   "id": "f8f7ba2e-2cc3-4bb4-88f2-9c76c4c97e1e",
   "metadata": {},
   "source": [
    "## Parameters\n",
    "\n",
    "Address we are interested in and the upgrade we want to do."
   ]
  },
  {
   "cell_type": "code",
   "execution_count": 4,
   "id": "58f2da86-6a32-448d-83a5-ba487e6c54a8",
   "metadata": {},
   "outputs": [],
   "source": [
    "address = \"165 Hope St, Providence, RI 02906\"\n",
    "upgrade = \"hvac__heat_pump_seer18_hspf10\"\n",
    "heating_fuel = \"fuel_oil\""
   ]
  },
  {
   "cell_type": "markdown",
   "id": "2c5a5bea-03cf-4508-a515-f682c2b641ec",
   "metadata": {},
   "source": [
    "## Make the Request"
   ]
  },
  {
   "cell_type": "code",
   "execution_count": 5,
   "id": "2aa2f974-6382-45db-9b8a-bc127873f924",
   "metadata": {},
   "outputs": [],
   "source": [
    "headers = {\"Authorization\": f\"Bearer {API_KEY}\"}\n",
    "\n",
    "response = requests.get(\n",
    "    url=REM_ADDRESS_URL,\n",
    "    headers=headers,\n",
    "    params=dict(address=address, upgrade=upgrade, heating_fuel=heating_fuel),\n",
    ")"
   ]
  },
  {
   "cell_type": "code",
   "execution_count": 6,
   "id": "064bddb1-9644-44d3-96de-4d7a070e2772",
   "metadata": {},
   "outputs": [
    {
     "data": {
      "text/plain": [
       "<Response [200]>"
      ]
     },
     "execution_count": 6,
     "metadata": {},
     "output_type": "execute_result"
    }
   ],
   "source": [
    "response"
   ]
  },
  {
   "cell_type": "markdown",
   "id": "26dafe7b-8be0-4c8e-8e41-a02bad6115ff",
   "metadata": {},
   "source": [
    "## Pull out the results\n",
    "\n",
    "We are specifically interested in the total dollar savings."
   ]
  },
  {
   "cell_type": "code",
   "execution_count": 7,
   "id": "90889101-3961-4c23-841c-f6bfb994cee1",
   "metadata": {},
   "outputs": [],
   "source": [
    "data = response.json()"
   ]
  },
  {
   "cell_type": "code",
   "execution_count": 8,
   "id": "048c58b4-7071-4a74-b273-8e877f6240a3",
   "metadata": {},
   "outputs": [],
   "source": [
    "fuel_results = data[\"fuel_results\"]"
   ]
  },
  {
   "cell_type": "code",
   "execution_count": 9,
   "id": "053ed56b",
   "metadata": {},
   "outputs": [
    {
     "data": {
      "text/plain": [
       "{'energy': {'mean': {'value': 1639.9717, 'unit': 'gallon'},\n",
       "  'median': {'value': 1592.8951, 'unit': 'gallon'},\n",
       "  'percentile_20': {'value': 1217.5114, 'unit': 'gallon'},\n",
       "  'percentile_80': {'value': 2014.3037, 'unit': 'gallon'}},\n",
       " 'emissions': {'mean': {'value': 20183.0257, 'unit': 'kgCO2e'},\n",
       "  'median': {'value': 19603.6575, 'unit': 'kgCO2e'},\n",
       "  'percentile_20': {'value': 14983.8342, 'unit': 'kgCO2e'},\n",
       "  'percentile_80': {'value': 24789.9057, 'unit': 'kgCO2e'}},\n",
       " 'cost': {'mean': {'value': 6557.3876, 'unit': '$'},\n",
       "  'median': {'value': 6369.1531, 'unit': '$'},\n",
       "  'percentile_20': {'value': 4868.1902, 'unit': '$'},\n",
       "  'percentile_80': {'value': 8054.1452, 'unit': '$'}}}"
      ]
     },
     "execution_count": 9,
     "metadata": {},
     "output_type": "execute_result"
    }
   ],
   "source": [
    "fuel_results[\"fuel_oil\"][\"baseline\"]"
   ]
  },
  {
   "cell_type": "code",
   "execution_count": 10,
   "id": "6bafae54",
   "metadata": {},
   "outputs": [
    {
     "data": {
      "text/plain": [
       "{'electricity': {'value': 0.1241, 'unit': 'kgCO2e/kWh'},\n",
       " 'natural_gas': {'value': 6.6798, 'unit': 'kgCO2e/therm'},\n",
       " 'fuel_oil': {'value': 12.3069, 'unit': 'kgCO2e/gallon'},\n",
       " 'propane': {'value': 7.3776, 'unit': 'kgCO2e/gallon'}}"
      ]
     },
     "execution_count": 10,
     "metadata": {},
     "output_type": "execute_result"
    }
   ],
   "source": [
    "data[\"emissions_factors\"]"
   ]
  },
  {
   "cell_type": "markdown",
   "id": "0ace052f-61e1-4ea9-8853-d76f721b0184",
   "metadata": {},
   "source": [
    "## Let's look at fuel oil, since that's what we are replacing\n",
    "\n",
    "It's a fairly big block of nested dictionaries, but we will go through it piece by\n",
    "piece."
   ]
  },
  {
   "cell_type": "code",
   "execution_count": 11,
   "id": "04ddef09-134c-4734-a932-1d698b268345",
   "metadata": {},
   "outputs": [],
   "source": [
    "fuel_oil_results = fuel_results[\"fuel_oil\"]"
   ]
  },
  {
   "cell_type": "code",
   "execution_count": 12,
   "id": "f859af3b-7dd1-45f0-81e5-9377aed86b1e",
   "metadata": {},
   "outputs": [
    {
     "data": {
      "text/plain": [
       "{'baseline': {'energy': {'mean': {'value': 1639.9717, 'unit': 'gallon'},\n",
       "   'median': {'value': 1592.8951, 'unit': 'gallon'},\n",
       "   'percentile_20': {'value': 1217.5114, 'unit': 'gallon'},\n",
       "   'percentile_80': {'value': 2014.3037, 'unit': 'gallon'}},\n",
       "  'emissions': {'mean': {'value': 20183.0257, 'unit': 'kgCO2e'},\n",
       "   'median': {'value': 19603.6575, 'unit': 'kgCO2e'},\n",
       "   'percentile_20': {'value': 14983.8342, 'unit': 'kgCO2e'},\n",
       "   'percentile_80': {'value': 24789.9057, 'unit': 'kgCO2e'}},\n",
       "  'cost': {'mean': {'value': 6557.3876, 'unit': '$'},\n",
       "   'median': {'value': 6369.1531, 'unit': '$'},\n",
       "   'percentile_20': {'value': 4868.1902, 'unit': '$'},\n",
       "   'percentile_80': {'value': 8054.1452, 'unit': '$'}}},\n",
       " 'upgrade': {'energy': {'mean': {'value': 73.1678, 'unit': 'gallon'},\n",
       "   'median': {'value': 0.0, 'unit': 'gallon'},\n",
       "   'percentile_20': {'value': 0.0, 'unit': 'gallon'},\n",
       "   'percentile_80': {'value': 161.4628, 'unit': 'gallon'}},\n",
       "  'emissions': {'mean': {'value': 900.471, 'unit': 'kgCO2e'},\n",
       "   'median': {'value': 0.0, 'unit': 'kgCO2e'},\n",
       "   'percentile_20': {'value': 0.0, 'unit': 'kgCO2e'},\n",
       "   'percentile_80': {'value': 1987.1118, 'unit': 'kgCO2e'}},\n",
       "  'cost': {'mean': {'value': 292.5596, 'unit': '$'},\n",
       "   'median': {'value': 0.0, 'unit': '$'},\n",
       "   'percentile_20': {'value': 0.0, 'unit': '$'},\n",
       "   'percentile_80': {'value': 645.605, 'unit': '$'}}},\n",
       " 'delta': {'energy': {'mean': {'value': -1566.8039, 'unit': 'gallon'},\n",
       "   'median': {'value': -1521.6893, 'unit': 'gallon'},\n",
       "   'percentile_20': {'value': -1945.3572, 'unit': 'gallon'},\n",
       "   'percentile_80': {'value': -1122.8551, 'unit': 'gallon'}},\n",
       "  'emissions': {'mean': {'value': -19282.5547, 'unit': 'kgCO2e'},\n",
       "   'median': {'value': -18727.3322, 'unit': 'kgCO2e'},\n",
       "   'percentile_20': {'value': -23941.3851, 'unit': 'kgCO2e'},\n",
       "   'percentile_80': {'value': -13818.9057, 'unit': 'kgCO2e'}},\n",
       "  'cost': {'mean': {'value': -6264.828, 'unit': '$'},\n",
       "   'median': {'value': -6084.4384, 'unit': '$'},\n",
       "   'percentile_20': {'value': -7778.4641, 'unit': '$'},\n",
       "   'percentile_80': {'value': -4489.7094, 'unit': '$'}}}}"
      ]
     },
     "execution_count": 12,
     "metadata": {},
     "output_type": "execute_result"
    }
   ],
   "source": [
    "fuel_oil_results"
   ]
  },
  {
   "cell_type": "markdown",
   "id": "792f8047-b858-4ce4-b6bc-d96b5fb83cd6",
   "metadata": {},
   "source": [
    "The results are divided into three sections:\n",
    "\n",
    "- `baseline` contains estimates of what was consumed in a typical year before the upgrade\n",
    "- `upgrade` contains estimates of what is consumed in a typical year after the upgrade\n",
    "- `delta` contains estimates of the change in consumption in a typical year due to the upgrade"
   ]
  },
  {
   "cell_type": "code",
   "execution_count": 13,
   "id": "6aab1b8e-c3d9-4d0f-a7d4-1a86f1543def",
   "metadata": {},
   "outputs": [
    {
     "data": {
      "text/plain": [
       "dict_keys(['baseline', 'upgrade', 'delta'])"
      ]
     },
     "execution_count": 13,
     "metadata": {},
     "output_type": "execute_result"
    }
   ],
   "source": [
    "result_keys = fuel_oil_results.keys()\n",
    "result_keys"
   ]
  },
  {
   "cell_type": "markdown",
   "id": "11047db1-32f6-46b4-be7a-fe79eecaab7d",
   "metadata": {},
   "source": [
    "Now we are going to pull out some mean numbers for all three."
   ]
  },
  {
   "cell_type": "code",
   "execution_count": 14,
   "id": "9000390b-3ccf-42dc-b1bd-8df3c67e1a21",
   "metadata": {},
   "outputs": [],
   "source": [
    "def results_for_stat(results, metric, stat: str):\n",
    "    \"\"\"A helper function to pull out subsets of the results.\"\"\"\n",
    "    return {k: results[k][metric][stat] for k in result_keys}"
   ]
  },
  {
   "cell_type": "markdown",
   "id": "75a33207-bebe-4edb-b662-a6449782b979",
   "metadata": {},
   "source": [
    "### Mean\n",
    "\n",
    "Let's start with the mean. For many applications, like presenting a single number to\n",
    "a consumer contemplating and upgrade, this is the place we might start."
   ]
  },
  {
   "cell_type": "code",
   "execution_count": 15,
   "id": "8ae5239f-0a6b-4838-aa56-a800a8f69fe2",
   "metadata": {},
   "outputs": [
    {
     "data": {
      "text/plain": [
       "{'baseline': {'value': 1639.9717, 'unit': 'gallon'},\n",
       " 'upgrade': {'value': 73.1678, 'unit': 'gallon'},\n",
       " 'delta': {'value': -1566.8039, 'unit': 'gallon'}}"
      ]
     },
     "execution_count": 15,
     "metadata": {},
     "output_type": "execute_result"
    }
   ],
   "source": [
    "mean_energy = results_for_stat(fuel_oil_results, \"energy\", \"mean\")\n",
    "mean_energy"
   ]
  },
  {
   "cell_type": "markdown",
   "id": "b5a28cbc-dfac-4ead-9c50-c59461e96b0d",
   "metadata": {},
   "source": [
    "### Mean post-upgrade consumption is not zero?\n",
    "\n",
    "The first thing to notice is that mean consumption of fuel oil after the upgrade is not exactly zero.\n",
    "It is still a small non-zero number. The reason for this is that in the sample space we constructed,\n",
    "there was at least one home that used fuel oil for some purpose other than heating, like water heating,\n",
    "so it continued to use it after the upgrade. In fact, while the samples are not exposed in this API,\n",
    "if we look under the hood, 89 out of 200 (45%) of the theoretical samples have Fuel Oil water heating,\n",
    "since heating and water heating fuels are highly correlated and fuel oil is prevalant for both in Rhode Island.\n",
    "\n",
    "### Mean baseline, upgrade, and change\n",
    "\n",
    "Now let's look at how the upgrade changed consumption. For the mean of the distribution, the consumption of energy after the upgrade should be the sum of the baseline and how much consumption changed."
   ]
  },
  {
   "cell_type": "code",
   "execution_count": 16,
   "id": "f4a4ad93-2321-4925-a783-691768f23ce9",
   "metadata": {},
   "outputs": [
    {
     "data": {
      "text/plain": [
       "0.0"
      ]
     },
     "execution_count": 16,
     "metadata": {},
     "output_type": "execute_result"
    }
   ],
   "source": [
    "round(\n",
    "    mean_energy[\"upgrade\"][\"value\"]\n",
    "    - (mean_energy[\"baseline\"][\"value\"] + mean_energy[\"delta\"][\"value\"]),\n",
    "    2,\n",
    ")"
   ]
  },
  {
   "cell_type": "markdown",
   "id": "a2d6c391-5e52-48c2-91ed-97744d192a32",
   "metadata": {},
   "source": [
    "### Median\n",
    "\n",
    "Now let's do the same analysis, but on the median values."
   ]
  },
  {
   "cell_type": "code",
   "execution_count": 17,
   "id": "69e7ded5-6084-4031-906a-5f806b447632",
   "metadata": {},
   "outputs": [
    {
     "data": {
      "text/plain": [
       "{'baseline': {'value': 1592.8951, 'unit': 'gallon'},\n",
       " 'upgrade': {'value': 0.0, 'unit': 'gallon'},\n",
       " 'delta': {'value': -1521.6893, 'unit': 'gallon'}}"
      ]
     },
     "execution_count": 17,
     "metadata": {},
     "output_type": "execute_result"
    }
   ],
   "source": [
    "median_energy = results_for_stat(fuel_oil_results, \"energy\", \"median\")\n",
    "median_energy"
   ]
  },
  {
   "cell_type": "markdown",
   "id": "d43d13ea-a01f-4b6f-bac6-2e1c2bc242aa",
   "metadata": {},
   "source": [
    "Unlike the mean, the median of the distribution uses no fuel oil after the upgrade. This is because a \n",
    "minority of homes in the sample used fuel oil for things other than heating (in this case, we know it was 45%). \n",
    "\n",
    "We can look at the 20th and 80th percentile and see that they are zero and non-zero \n",
    "respectively after the upgrade."
   ]
  },
  {
   "cell_type": "code",
   "execution_count": 18,
   "id": "e54eb08e-491b-4f2b-83b3-1fd4901941a5",
   "metadata": {},
   "outputs": [
    {
     "data": {
      "text/plain": [
       "{'value': 0.0, 'unit': 'gallon'}"
      ]
     },
     "execution_count": 18,
     "metadata": {},
     "output_type": "execute_result"
    }
   ],
   "source": [
    "results_for_stat(fuel_oil_results, \"energy\", \"percentile_20\")[\"upgrade\"]"
   ]
  },
  {
   "cell_type": "code",
   "execution_count": 19,
   "id": "172e005f",
   "metadata": {},
   "outputs": [
    {
     "data": {
      "text/plain": [
       "{'value': 161.4628, 'unit': 'gallon'}"
      ]
     },
     "execution_count": 19,
     "metadata": {},
     "output_type": "execute_result"
    }
   ],
   "source": [
    "results_for_stat(fuel_oil_results, \"energy\", \"percentile_80\")[\"upgrade\"]"
   ]
  },
  {
   "cell_type": "markdown",
   "id": "d66cb699-be21-4bd5-8412-2fb81cb7f334",
   "metadata": {},
   "source": [
    "## Emissions\n",
    "\n",
    "In addition to consumption of various fuels, the model estimates in kgCO2e (which include other greenhouse such as methane) emissions before and after the upgrade. Let's look at some of those numbers for total household emissions, including those for  all fuels and all end uses in the home."
   ]
  },
  {
   "cell_type": "code",
   "execution_count": 20,
   "id": "00facc0b-8037-495a-ae24-451017d0fecf",
   "metadata": {},
   "outputs": [],
   "source": [
    "total_results = fuel_results[\"total\"]"
   ]
  },
  {
   "cell_type": "code",
   "execution_count": 21,
   "id": "9e391af5-451b-43ef-88fd-572ee62b041c",
   "metadata": {},
   "outputs": [],
   "source": [
    "median_emissions = results_for_stat(total_results, \"emissions\", \"median\")"
   ]
  },
  {
   "cell_type": "code",
   "execution_count": 22,
   "id": "c197ae97-0161-4d3d-8103-13eb9ecdfb5f",
   "metadata": {},
   "outputs": [
    {
     "data": {
      "text/plain": [
       "{'baseline': {'value': 21423.6426, 'unit': 'kgCO2e'},\n",
       " 'upgrade': {'value': 4743.954, 'unit': 'kgCO2e'},\n",
       " 'delta': {'value': -16628.4887, 'unit': 'kgCO2e'}}"
      ]
     },
     "execution_count": 22,
     "metadata": {},
     "output_type": "execute_result"
    }
   ],
   "source": [
    "median_emissions"
   ]
  },
  {
   "cell_type": "markdown",
   "id": "cc2d7edb-6cea-44ba-bbfe-6b7891a74ffa",
   "metadata": {},
   "source": [
    "### Median baseline, upgrade, and change\n",
    "\n",
    "Now let's see if the median behaves like the mean did when we add things up.\n",
    "(Spoiler alert: it does not.)"
   ]
  },
  {
   "cell_type": "code",
   "execution_count": 23,
   "id": "77f9bbef-5c57-405a-a2c6-6f206c7b499c",
   "metadata": {},
   "outputs": [
    {
     "data": {
      "text/plain": [
       "-51.2"
      ]
     },
     "execution_count": 23,
     "metadata": {},
     "output_type": "execute_result"
    }
   ],
   "source": [
    "round(\n",
    "    median_emissions[\"upgrade\"][\"value\"]\n",
    "    - (median_emissions[\"baseline\"][\"value\"] + median_emissions[\"delta\"][\"value\"]),\n",
    "    2,\n",
    ")"
   ]
  },
  {
   "cell_type": "markdown",
   "id": "01b2e032-0b61-4650-8cbc-cb5e4523bfb2",
   "metadata": {},
   "source": [
    "What happened? The reason the numbers don't quite add up has to do with how we compute the medians.\n",
    "`median_emissions['upgrade']` is a median taken over the total emissions of every home in the distribution\n",
    "after the upgrade. `median_emissions['baseline']` is the median total emissions of every home in the distribution\n",
    "before the upgrade. But because factors like insulation affect the amount of heat needed, which affects emissions\n",
    "differently before and after the upgrade, homes can move around in the distribution, which can affect the median.\n",
    "`median_emissions['delta']` is the median of the change in emissions, which is therefore not necessarily the difference\n",
    "of the median emissions before and after the upgrade."
   ]
  },
  {
   "cell_type": "markdown",
   "id": "174ab7c2",
   "metadata": {},
   "source": []
  }
 ],
 "metadata": {
  "kernelspec": {
   "display_name": "Python 3 (ipykernel)",
   "language": "python",
   "name": "python3"
  },
  "language_info": {
   "codemirror_mode": {
    "name": "ipython",
    "version": 3
   },
   "file_extension": ".py",
   "mimetype": "text/x-python",
   "name": "python",
   "nbconvert_exporter": "python",
   "pygments_lexer": "ipython3",
   "version": "3.12.4"
  }
 },
 "nbformat": 4,
 "nbformat_minor": 5
}
