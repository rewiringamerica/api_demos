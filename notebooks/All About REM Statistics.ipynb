{
 "cells": [
  {
   "cell_type": "markdown",
   "id": "15765978-ee13-4139-969f-440222df8830",
   "metadata": {},
   "source": [
    "# All About REM API Statistics\n",
    "\n",
    "In order to make estimates for the impact of an electrical upgrade\n",
    "on a home, the REM API does a\n",
    "[Monte Carlo](https://en.wikipedia.org/wiki/Monte_Carlo_method)\n",
    "simulation over one hundred theoretical homes that closely\n",
    "resemble the target home and, taken as a whole, \n",
    "probabalistically represent it. \n",
    "\n",
    "We do this because we generally don't know everything about each\n",
    "home. Rewiring America has a large database, based on public records,\n",
    "that tells us things like when a home what built and how many square feet\n",
    "it is. But it does not always give us all the details that would help\n",
    "us estimate savings. So we look at other similar homes nearby that we know\n",
    "more about, and use statistics across all of them to decide what is likely\n",
    "to happen in the given home.\n",
    "\n",
    "This means that instead of getting one answer for\n",
    "how much less fuel oil the home will use or how\n",
    "much money the homeowner will save each year, it generates\n",
    "one hundred answers to the question, each based on one\n",
    "theoretical home.\n",
    "\n",
    "In the return value from the API, we get statistics across\n",
    "those theoretical homes including the mean, meadian, and 20th\n",
    "and 80th percentile values for savings, emissions, and so on.\n",
    "\n",
    "The purpose of this notebook is to illustrate how those statistics\n",
    "work, describe how they are computed, and discuss how and why\n",
    "they should or should not be used in particular ways.\n",
    "\n",
    "## Imports and Configuration"
   ]
  },
  {
   "cell_type": "code",
   "execution_count": 1,
   "id": "27e49c93-57d7-4ee9-bb54-623b50e4e87c",
   "metadata": {},
   "outputs": [],
   "source": [
    "import requests\n",
    "from pathlib import Path"
   ]
  },
  {
   "cell_type": "code",
   "execution_count": 2,
   "id": "cecd5ef2-6a34-4752-9899-fc3fe519c3d9",
   "metadata": {},
   "outputs": [],
   "source": [
    "HOST = \"https://api.rewiringamerica.org\"\n",
    "HOST = \"http://127.0.0.1:8000\"\n",
    "REM_ADDRESS_URL = f\"{HOST}/api/v1/rem/address\"\n",
    "\n",
    "API_KEY = None  # Put your API key here, or better yet in the file ~/.rwapi/api_key.txt"
   ]
  },
  {
   "cell_type": "code",
   "execution_count": 3,
   "id": "654ba342-e8d5-480b-9bcc-cd9e226b1122",
   "metadata": {},
   "outputs": [],
   "source": [
    "if API_KEY is None:\n",
    "    api_key_path = Path.home() / \".rwapi\" / \"api_key.txt\"\n",
    "\n",
    "    if api_key_path.is_file():\n",
    "        with open(api_key_path) as f:\n",
    "            API_KEY = f.read().strip()"
   ]
  },
  {
   "cell_type": "markdown",
   "id": "f8f7ba2e-2cc3-4bb4-88f2-9c76c4c97e1e",
   "metadata": {},
   "source": [
    "## Parameters\n",
    "\n",
    "Address we are interested in and the upgrade we want to do."
   ]
  },
  {
   "cell_type": "code",
   "execution_count": 4,
   "id": "58f2da86-6a32-448d-83a5-ba487e6c54a8",
   "metadata": {},
   "outputs": [],
   "source": [
    "address = '165 Hope St, Providence, RI 02906'\n",
    "upgrade = \"med_eff_hp_hers_sizing_no_setback\"\n",
    "heating_fuel = 'fuel_oil'"
   ]
  },
  {
   "cell_type": "markdown",
   "id": "2c5a5bea-03cf-4508-a515-f682c2b641ec",
   "metadata": {},
   "source": [
    "## Make the Request"
   ]
  },
  {
   "cell_type": "code",
   "execution_count": 5,
   "id": "2aa2f974-6382-45db-9b8a-bc127873f924",
   "metadata": {},
   "outputs": [],
   "source": [
    "headers = {\"Authorization\": f\"Bearer {API_KEY}\"}\n",
    "\n",
    "response = requests.get(\n",
    "    url=REM_ADDRESS_URL,\n",
    "    headers=headers,\n",
    "    params=dict(\n",
    "        address=address, upgrade=upgrade, heating_fuel=heating_fuel\n",
    "    )\n",
    ")"
   ]
  },
  {
   "cell_type": "code",
   "execution_count": 6,
   "id": "064bddb1-9644-44d3-96de-4d7a070e2772",
   "metadata": {},
   "outputs": [
    {
     "data": {
      "text/plain": [
       "<Response [200]>"
      ]
     },
     "execution_count": 6,
     "metadata": {},
     "output_type": "execute_result"
    }
   ],
   "source": [
    "response"
   ]
  },
  {
   "cell_type": "markdown",
   "id": "26dafe7b-8be0-4c8e-8e41-a02bad6115ff",
   "metadata": {},
   "source": [
    "## Pull out the results\n",
    "\n",
    "We are specifically interested in the total dollar savings."
   ]
  },
  {
   "cell_type": "code",
   "execution_count": 7,
   "id": "90889101-3961-4c23-841c-f6bfb994cee1",
   "metadata": {},
   "outputs": [],
   "source": [
    "data = response.json()"
   ]
  },
  {
   "cell_type": "code",
   "execution_count": 8,
   "id": "048c58b4-7071-4a74-b273-8e877f6240a3",
   "metadata": {},
   "outputs": [],
   "source": [
    "fuel_results = data[\"fuel_results\"]"
   ]
  },
  {
   "cell_type": "markdown",
   "id": "0ace052f-61e1-4ea9-8853-d76f721b0184",
   "metadata": {},
   "source": [
    "## Let's look at fuel oil, since that's what we are replacing\n",
    "\n",
    "It's a fairly big block of nested dictionaries, but we will go through it peice by\n",
    "peice."
   ]
  },
  {
   "cell_type": "code",
   "execution_count": 9,
   "id": "04ddef09-134c-4734-a932-1d698b268345",
   "metadata": {},
   "outputs": [],
   "source": [
    "fuel_oil_results = fuel_results[\"fuel_oil\"]"
   ]
  },
  {
   "cell_type": "code",
   "execution_count": 10,
   "id": "f859af3b-7dd1-45f0-81e5-9377aed86b1e",
   "metadata": {},
   "outputs": [
    {
     "data": {
      "text/plain": [
       "{'baseline': {'energy': {'mean': {'value': 1896.4882588608175,\n",
       "    'units': 'gallon'},\n",
       "   'median': {'value': 1835.3017229512634, 'units': 'gallon'},\n",
       "   'percentile_20': {'value': 1421.0989918991424, 'units': 'gallon'},\n",
       "   'percentile_80': {'value': 2339.4446765584385, 'units': 'gallon'}},\n",
       "  'emissions': {'mean': {'value': 23339.958325300828, 'units': 'kgCO2e'},\n",
       "   'median': {'value': 22586.939585782588, 'units': 'kgCO2e'},\n",
       "   'percentile_20': {'value': 17489.373367898726, 'units': 'kgCO2e'},\n",
       "   'percentile_80': {'value': 28791.39430476595, 'units': 'kgCO2e'}},\n",
       "  'cost': {'mean': {'value': 7583.062898664385, 'units': '$'},\n",
       "   'median': {'value': 7338.409999715124, 'units': '$'},\n",
       "   'percentile_20': {'value': 5682.230296154243, 'units': '$'},\n",
       "   'percentile_80': {'value': 9354.213529876717, 'units': '$'}}},\n",
       " 'upgrade': {'energy': {'mean': {'value': 66.82907559143058,\n",
       "    'units': 'gallon'},\n",
       "   'median': {'value': 0.0, 'units': 'gallon'},\n",
       "   'percentile_20': {'value': 0.0, 'units': 'gallon'},\n",
       "   'percentile_80': {'value': 127.0022884552967, 'units': 'gallon'}},\n",
       "  'emissions': {'mean': {'value': 822.4611103889995, 'units': 'kgCO2e'},\n",
       "   'median': {'value': 0.0, 'units': 'kgCO2e'},\n",
       "   'percentile_20': {'value': 0.0, 'units': 'kgCO2e'},\n",
       "   'percentile_80': {'value': 1563.0089487319115, 'units': 'kgCO2e'}},\n",
       "  'cost': {'mean': {'value': 267.2144587775201, 'units': '$'},\n",
       "   'median': {'value': 0.0, 'units': '$'},\n",
       "   'percentile_20': {'value': 0.0, 'units': '$'},\n",
       "   'percentile_80': {'value': 507.81560978886694, 'units': '$'}}},\n",
       " 'delta': {'energy': {'mean': {'value': -1829.659183269387, 'units': 'gallon'},\n",
       "   'median': {'value': -1734.6598508032844, 'units': 'gallon'},\n",
       "   'percentile_20': {'value': -2254.980892510153, 'units': 'gallon'},\n",
       "   'percentile_80': {'value': -1351.1387227570224, 'units': 'gallon'}},\n",
       "  'emissions': {'mean': {'value': -22517.497214911826, 'units': 'kgCO2e'},\n",
       "   'median': {'value': -21348.346575391333, 'units': 'kgCO2e'},\n",
       "   'percentile_20': {'value': -27751.903978119604, 'units': 'kgCO2e'},\n",
       "   'percentile_80': {'value': -16628.376861026205, 'units': 'kgCO2e'}},\n",
       "  'cost': {'mean': {'value': -7315.848439886864, 'units': '$'},\n",
       "   'median': {'value': -6935.9958834284835, 'units': '$'},\n",
       "   'percentile_20': {'value': -9016.487111532275, 'units': '$'},\n",
       "   'percentile_80': {'value': -5402.495834929128, 'units': '$'}}}}"
      ]
     },
     "execution_count": 10,
     "metadata": {},
     "output_type": "execute_result"
    }
   ],
   "source": [
    "fuel_oil_results"
   ]
  },
  {
   "cell_type": "markdown",
   "id": "792f8047-b858-4ce4-b6bc-d96b5fb83cd6",
   "metadata": {},
   "source": [
    "The results are divided into three sections:\n",
    "\n",
    "- `baseline` contains estimates of what was consumed in a typical year before the upgrade\n",
    "- `upgrade` contains estimates of what is consumed in a typical year after the upgrade\n",
    "- `delta` contains estimats of the change in consumption in a typical year due to the upgrade"
   ]
  },
  {
   "cell_type": "code",
   "execution_count": 11,
   "id": "6aab1b8e-c3d9-4d0f-a7d4-1a86f1543def",
   "metadata": {},
   "outputs": [
    {
     "data": {
      "text/plain": [
       "dict_keys(['baseline', 'upgrade', 'delta'])"
      ]
     },
     "execution_count": 11,
     "metadata": {},
     "output_type": "execute_result"
    }
   ],
   "source": [
    "result_keys = fuel_oil_results.keys()\n",
    "result_keys"
   ]
  },
  {
   "cell_type": "markdown",
   "id": "11047db1-32f6-46b4-be7a-fe79eecaab7d",
   "metadata": {},
   "source": [
    "Now we are going to pull out some mean numbers for all three."
   ]
  },
  {
   "cell_type": "code",
   "execution_count": 12,
   "id": "9000390b-3ccf-42dc-b1bd-8df3c67e1a21",
   "metadata": {},
   "outputs": [],
   "source": [
    "def results_for_stat(results, metric, stat: str):\n",
    "    \"\"\"A helper function to pull out subsets of the results.\"\"\"\n",
    "    return {\n",
    "        k: results[k][metric][stat]\n",
    "        for k in result_keys\n",
    "    }"
   ]
  },
  {
   "cell_type": "markdown",
   "id": "75a33207-bebe-4edb-b662-a6449782b979",
   "metadata": {},
   "source": [
    "### Mean\n",
    "\n",
    "Let's start with the mean. For many applications, like presenting a single number to\n",
    "a consumer contemplating and upgrade, this is the place we might start."
   ]
  },
  {
   "cell_type": "code",
   "execution_count": 13,
   "id": "8ae5239f-0a6b-4838-aa56-a800a8f69fe2",
   "metadata": {},
   "outputs": [
    {
     "data": {
      "text/plain": [
       "{'baseline': {'value': 1896.4882588608175, 'units': 'gallon'},\n",
       " 'upgrade': {'value': 66.82907559143058, 'units': 'gallon'},\n",
       " 'delta': {'value': -1829.659183269387, 'units': 'gallon'}}"
      ]
     },
     "execution_count": 13,
     "metadata": {},
     "output_type": "execute_result"
    }
   ],
   "source": [
    "mean_energy = results_for_stat(fuel_oil_results, \"energy\", \"mean\")\n",
    "mean_energy"
   ]
  },
  {
   "cell_type": "markdown",
   "id": "b5a28cbc-dfac-4ead-9c50-c59461e96b0d",
   "metadata": {},
   "source": [
    "### Mean post-upgrade consumption is not zero?\n",
    "\n",
    "The first thing to notice is that mean consumption of fuel oil after the upgrade is not exactly zero.\n",
    "It is still a small non-zero number. The reason for this is that in the sample space we constructed,\n",
    "there was at least one home that used fuel oil for some purpose other than heating, like maybe decorative\n",
    "outdoor lighting, so it continued to use it after the upgrade.\n",
    "\n",
    "### Mean baseline, upgrade, and change\n",
    "\n",
    "Now let's look at how the upgrade changed consumption. For the mean of the distribution, the consumption of energy after the upgrade should be the sum of the baseline and how much consumption changed."
   ]
  },
  {
   "cell_type": "code",
   "execution_count": 14,
   "id": "f4a4ad93-2321-4925-a783-691768f23ce9",
   "metadata": {},
   "outputs": [
    {
     "data": {
      "text/plain": [
       "0.0"
      ]
     },
     "execution_count": 14,
     "metadata": {},
     "output_type": "execute_result"
    }
   ],
   "source": [
    "round(mean_energy['upgrade']['value'] - (mean_energy['baseline']['value'] + mean_energy['delta']['value']), 2)"
   ]
  },
  {
   "cell_type": "markdown",
   "id": "a2d6c391-5e52-48c2-91ed-97744d192a32",
   "metadata": {},
   "source": [
    "### Median\n",
    "\n",
    "Now let's do the same analysis, but on the median values."
   ]
  },
  {
   "cell_type": "code",
   "execution_count": 15,
   "id": "69e7ded5-6084-4031-906a-5f806b447632",
   "metadata": {},
   "outputs": [
    {
     "data": {
      "text/plain": [
       "{'baseline': {'value': 1835.3017229512634, 'units': 'gallon'},\n",
       " 'upgrade': {'value': 0.0, 'units': 'gallon'},\n",
       " 'delta': {'value': -1734.6598508032844, 'units': 'gallon'}}"
      ]
     },
     "execution_count": 15,
     "metadata": {},
     "output_type": "execute_result"
    }
   ],
   "source": [
    "median_energy = results_for_stat(fuel_oil_results, \"energy\", \"median\")\n",
    "median_energy"
   ]
  },
  {
   "cell_type": "markdown",
   "id": "d43d13ea-a01f-4b6f-bac6-2e1c2bc242aa",
   "metadata": {},
   "source": [
    "Unlike the mean, the median of the distribution uses no fuel oil after the upgrade. This is because whatever\n",
    "home or homes in the sample used fuel oil for something other than heating, there were probably not very\n",
    "many of them.\n",
    "\n",
    "Indeed, we can look at the 20th percentile and see that it is also still zero after the upgrade."
   ]
  },
  {
   "cell_type": "code",
   "execution_count": 16,
   "id": "e54eb08e-491b-4f2b-83b3-1fd4901941a5",
   "metadata": {},
   "outputs": [
    {
     "data": {
      "text/plain": [
       "{'value': 0.0, 'units': 'gallon'}"
      ]
     },
     "execution_count": 16,
     "metadata": {},
     "output_type": "execute_result"
    }
   ],
   "source": [
    "results_for_stat(fuel_oil_results, \"energy\", \"percentile_20\")[\"upgrade\"]"
   ]
  },
  {
   "cell_type": "markdown",
   "id": "d66cb699-be21-4bd5-8412-2fb81cb7f334",
   "metadata": {},
   "source": [
    "## Emissions\n",
    "\n",
    "In addition to consumption of various fuels, the model estimates emissions before and after the upgrade. Let's look at some of those numbers for total household emissions, including not just those used for heating and cooling."
   ]
  },
  {
   "cell_type": "code",
   "execution_count": 17,
   "id": "00facc0b-8037-495a-ae24-451017d0fecf",
   "metadata": {},
   "outputs": [],
   "source": [
    "total_results = fuel_results[\"total\"]"
   ]
  },
  {
   "cell_type": "code",
   "execution_count": 18,
   "id": "9e391af5-451b-43ef-88fd-572ee62b041c",
   "metadata": {},
   "outputs": [],
   "source": [
    "median_emissions = results_for_stat(total_results, \"emissions\", \"median\")"
   ]
  },
  {
   "cell_type": "code",
   "execution_count": 19,
   "id": "c197ae97-0161-4d3d-8103-13eb9ecdfb5f",
   "metadata": {},
   "outputs": [
    {
     "data": {
      "text/plain": [
       "{'baseline': {'value': 24494.886756684195, 'units': 'kgCO2e'},\n",
       " 'upgrade': {'value': 4827.1295927221445, 'units': 'kgCO2e'},\n",
       " 'delta': {'value': -19006.60574134832, 'units': 'kgCO2e'}}"
      ]
     },
     "execution_count": 19,
     "metadata": {},
     "output_type": "execute_result"
    }
   ],
   "source": [
    "median_emissions"
   ]
  },
  {
   "cell_type": "markdown",
   "id": "cc2d7edb-6cea-44ba-bbfe-6b7891a74ffa",
   "metadata": {},
   "source": [
    "### Median baseline, upgrade, and change\n",
    "\n",
    "Now let's see if the median behaves like the mean did when we add things up.\n",
    "(Spoiler alert: it does not.)"
   ]
  },
  {
   "cell_type": "code",
   "execution_count": 20,
   "id": "77f9bbef-5c57-405a-a2c6-6f206c7b499c",
   "metadata": {},
   "outputs": [
    {
     "data": {
      "text/plain": [
       "-661.15"
      ]
     },
     "execution_count": 20,
     "metadata": {},
     "output_type": "execute_result"
    }
   ],
   "source": [
    "round(median_emissions['upgrade']['value'] - (median_emissions['baseline']['value'] + median_emissions['delta']['value']), 2)"
   ]
  },
  {
   "cell_type": "markdown",
   "id": "01b2e032-0b61-4650-8cbc-cb5e4523bfb2",
   "metadata": {},
   "source": [
    "What happened? The reason the numbers don't quite add up has to do with how we compute the medians.\n",
    "`median_emissions['upgrade']` is a median taken over the total emissions of every home in the distribution\n",
    "after the upgrade. `median_emissions['baseline']` is the median total_emissions of every home in the distribution\n",
    "before the upgrade. But because factors like insulation affect the amount of heat needed, which affects emissions\n",
    "differently before and after the upgrade, homes can move around in the distribution, which can affect the median.\n",
    "`median_emissions['delta']` is the median of the change in emissions, which is therefore not necessarily the difference\n",
    "of the median emissions before and after the upgrade."
   ]
  }
 ],
 "metadata": {
  "kernelspec": {
   "display_name": "Python 3 (ipykernel)",
   "language": "python",
   "name": "python3"
  },
  "language_info": {
   "codemirror_mode": {
    "name": "ipython",
    "version": 3
   },
   "file_extension": ".py",
   "mimetype": "text/x-python",
   "name": "python",
   "nbconvert_exporter": "python",
   "pygments_lexer": "ipython3",
   "version": "3.12.4"
  }
 },
 "nbformat": 4,
 "nbformat_minor": 5
}
