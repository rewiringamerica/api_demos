{
 "cells": [
  {
   "cell_type": "markdown",
   "id": "f9a2131e-ef4d-48a5-85cf-be523964d472",
   "metadata": {},
   "source": [
    "# Calling the Rewiring America Health Impacts API from Python\n",
    "\n",
    "In December, Rewiring America released our second public API. The API is based on data and models\n",
    "we built to type to answer questions about how the health of people across the county would be\n",
    "affected if communities were to electrify their homes in various ways. \n",
    "\n",
    "You can read about the research on [our web site](https://www.rewiringamerica.org/research/home-electrification-health-benefits),\n",
    "and in the [New York Times](https://www.nytimes.com/2024/12/10/climate/heat-pumps-savings.html).\n",
    "Reports and new coverage are awesome, but we also wanted to make sure it\n",
    "was easy for researchers to get the underlying data, sliced and diced to meet their needs. So we\n",
    "created an API.\n",
    "\n",
    "In this notebook we are going to demonstrate how you can call the API directly from Python and what\n",
    "kinds of questions you can ask it."
   ]
  },
  {
   "cell_type": "markdown",
   "id": "535d5e22-a2c8-460e-ad32-f5340caf9a68",
   "metadata": {},
   "source": [
    "## Python Environment Setup\n",
    "\n",
    "The Rewiring America APIs can be called from any Python 3.8+ environment using the requests package. The Health Impacts AP returns data in tabular form, so it is also useful to have Pandas installed in your virtual environment. If you don’t already have both of these packages installed, you can install them with\n",
    "\n",
    "```shell\n",
    "pip install requests\n",
    "```\n",
    "\n",
    "and\n",
    "\n",
    "```shell\n",
    "pip install pandas\n",
    "```\n",
    "\n",
    "Those should be the only things you need to ensure are installed before you can run the code in this notebook."
   ]
  },
  {
   "cell_type": "markdown",
   "id": "247d21dd-ec8f-4ac3-bc74-4369947276a8",
   "metadata": {},
   "source": [
    "## Imports and configuration\n",
    "\n",
    "Once we have our environment set up, our next step is to import the packages we are going to use"
   ]
  },
  {
   "cell_type": "code",
   "execution_count": 1,
   "id": "44f069bf-b646-4176-8795-0df0e3d87906",
   "metadata": {},
   "outputs": [],
   "source": [
    "import requests\n",
    "import pandas as pd\n",
    "from pathlib import Path"
   ]
  },
  {
   "cell_type": "markdown",
   "id": "6dbb0754-090e-491b-8f68-8b42b1d565d8",
   "metadata": {},
   "source": [
    "We also need the URL of the Health Effects API."
   ]
  },
  {
   "cell_type": "code",
   "execution_count": 10,
   "id": "d969debb-d64a-46d6-a35e-c4744704981d",
   "metadata": {},
   "outputs": [],
   "source": [
    "URL = \"https://api.rewiringamerica.org/api/v1/health-impacts/\"\n",
    "\n",
    "API_KEY = None  # Put your API key here, or better yet in the file ~/.rwapi/api_key.txt"
   ]
  },
  {
   "cell_type": "code",
   "execution_count": 11,
   "id": "a96e96ab",
   "metadata": {},
   "outputs": [],
   "source": [
    "if API_KEY is None:\n",
    "    api_key_path = Path.home() / \".rwapi\" / \"api_key.txt\"\n",
    "\n",
    "    if api_key_path.is_file():\n",
    "        with open(api_key_path) as f:\n",
    "            API_KEY = f.read().strip()"
   ]
  },
  {
   "cell_type": "markdown",
   "id": "6267cf16-63df-495f-97f5-5532fa616a95",
   "metadata": {},
   "source": [
    "## Our First API Call\n",
    "\n",
    "### Payload\n",
    "\n",
    "We are going to start out with a basic call to the API, and then we will build up from there.\n",
    "\n",
    "In our first call, we will pass in \n",
    "\n",
    "- a single metric (premature mortality),\n",
    "- a single upgrade (a medium efficiency heat pump),\n",
    "- a single state (Wisconsin).\n",
    "\n",
    "The return value will be the nationwide impact on premature mortality in person-years if every home\n",
    "in Wisconsin were to upgrade to a heat pump. Note that the effects are nationwide, because winds can\n",
    "blow pollutants into nearby states. But the bulk of the effect will occur in and near the state of Wisconsin."
   ]
  },
  {
   "cell_type": "code",
   "execution_count": 12,
   "id": "6ec6c453-4c96-4b5d-9b0b-625d867817aa",
   "metadata": {},
   "outputs": [],
   "source": [
    "payload = {\n",
    "    \"metrics\": \"premature_mortality_incidence_delta\",\n",
    "    \"upgrade\": \"med_eff_hp_hers_sizing_no_setback\",\n",
    "    \"state\": \"WI\"\n",
    "}"
   ]
  },
  {
   "cell_type": "markdown",
   "id": "dbef1232-c92f-4be6-b629-7fba5d19d897",
   "metadata": {},
   "source": [
    "### Headers\n",
    "\n",
    "In addition to the payload, we will send in some standard headers with each call, to indicate\n",
    "that we are sending the payload in JSON form and we expect the results to come back in JSON."
   ]
  },
  {
   "cell_type": "code",
   "execution_count": 13,
   "id": "0be7df36-e82a-4b7e-badc-3a6858f297b0",
   "metadata": {},
   "outputs": [],
   "source": [
    "headers = {\n",
    "    \"Content-Type\": \"application/json\",\n",
    "    \"Accept\": \"application/json\",\n",
    "    \"Authorization\": f\"Bearer {API_KEY}\"\n",
    "}"
   ]
  },
  {
   "cell_type": "markdown",
   "id": "ea2c9ff1-6246-4e07-8c0b-a38311844793",
   "metadata": {},
   "source": [
    "### Make the Call\n",
    "\n",
    "Now we can make the actual call, look at the response code, which should be 200 to indicate\n",
    "that everything was OK, and then the text of the response."
   ]
  },
  {
   "cell_type": "code",
   "execution_count": 14,
   "id": "25b413d2-b03f-4685-8d40-7aee05f36fd5",
   "metadata": {},
   "outputs": [],
   "source": [
    "# Make the API call:\n",
    "response = requests.post(URL, json=payload, headers=headers)"
   ]
  },
  {
   "cell_type": "code",
   "execution_count": 15,
   "id": "fdcbf5e3-048e-4903-a773-3c81b8ca21db",
   "metadata": {},
   "outputs": [
    {
     "data": {
      "text/plain": [
       "401"
      ]
     },
     "execution_count": 15,
     "metadata": {},
     "output_type": "execute_result"
    }
   ],
   "source": [
    "response.status_code"
   ]
  },
  {
   "cell_type": "code",
   "execution_count": 8,
   "id": "b0a4555e-04e4-4fdd-8c89-0cb474ed16cf",
   "metadata": {},
   "outputs": [
    {
     "data": {
      "text/plain": [
       "'{\\n  \"type\": \"https://httpproblems.com/http-status/404\",\\n  \"title\": \"Not Found\",\\n  \"status\": 404,\\n  \"instance\": \"/api/v1/health_impacts/\",\\n  \"trace\": {\\n    \"timestamp\": \"2024-12-18T20:16:33.888Z\",\\n    \"requestId\": \"6962b3c2-f447-433f-927b-06094432ac32\",\\n    \"buildId\": \"41522c37-2c71-4e65-a2f9-c86f10298cc8\",\\n    \"rayId\": \"8f41d4d38f674233\"\\n  }\\n}'"
      ]
     },
     "execution_count": 8,
     "metadata": {},
     "output_type": "execute_result"
    }
   ],
   "source": [
    "response.text"
   ]
  },
  {
   "cell_type": "markdown",
   "id": "fc5ba220-34f4-4ccd-b983-ef47610e4948",
   "metadata": {},
   "source": [
    "### Data from the Response\n",
    "\n",
    "Now we will make a data frame out of the JSON data that comes back from the call.\n",
    "\n",
    "We asked for one state, so the response will have one row. It will also have a column\n",
    "to indicate what the state is. This will be more important when we ask for more than\n",
    "one state. We asked for one metric, so it will have a column for that. It will also\n",
    "have a column for the number of households in the state."
   ]
  },
  {
   "cell_type": "code",
   "execution_count": 9,
   "id": "1ad2c02b-aa58-4389-85cb-71d38208f44a",
   "metadata": {},
   "outputs": [
    {
     "ename": "KeyError",
     "evalue": "'data'",
     "output_type": "error",
     "traceback": [
      "\u001b[0;31m---------------------------------------------------------------------------\u001b[0m",
      "\u001b[0;31mKeyError\u001b[0m                                  Traceback (most recent call last)",
      "Cell \u001b[0;32mIn[9], line 1\u001b[0m\n\u001b[0;32m----> 1\u001b[0m df_data \u001b[38;5;241m=\u001b[39m pd\u001b[38;5;241m.\u001b[39mDataFrame(\u001b[43mresponse\u001b[49m\u001b[38;5;241;43m.\u001b[39;49m\u001b[43mjson\u001b[49m\u001b[43m(\u001b[49m\u001b[43m)\u001b[49m\u001b[43m[\u001b[49m\u001b[38;5;124;43m\"\u001b[39;49m\u001b[38;5;124;43mdata\u001b[39;49m\u001b[38;5;124;43m\"\u001b[39;49m\u001b[43m]\u001b[49m)\n",
      "\u001b[0;31mKeyError\u001b[0m: 'data'"
     ]
    }
   ],
   "source": [
    "df_data = pd.DataFrame(response.json()[\"data\"])"
   ]
  },
  {
   "cell_type": "code",
   "execution_count": null,
   "id": "2c651847-38e7-4a3d-b461-a5977efaddc4",
   "metadata": {},
   "outputs": [],
   "source": [
    "df_data"
   ]
  },
  {
   "cell_type": "markdown",
   "id": "674fb96c-9cb0-42f7-b0df-97c051da50e6",
   "metadata": {},
   "source": [
    "So looking at the results, we see that if all of the households in Wisconsin were to switch to heat pumps, 28 lives per year would be saved."
   ]
  },
  {
   "cell_type": "markdown",
   "id": "bc83a11a",
   "metadata": {},
   "source": [
    "## Expanding our Query to All States\n",
    "\n",
    "Now let's make a second query. Just like in the first one, we\n",
    "Wpass in a single metric (premature mortality) and a single upgrade (a\n",
    "medium efficiency heat pump). But unlike in the Wisconsin example, we do not pass in a state. Therefore, we get results for all states in the continental United States."
   ]
  },
  {
   "cell_type": "code",
   "execution_count": null,
   "id": "c0bb2ad4",
   "metadata": {},
   "outputs": [],
   "source": [
    "payload_all_states = {\n",
    "    \"metrics\": \"premature_mortality_incidence_delta\",\n",
    "    \"upgrade\": \"med_eff_hp_hers_sizing_no_setback\"\n",
    "}\n",
    "\n",
    "response_all_states = requests.post(URL, json=payload_all_states, headers=headers)"
   ]
  },
  {
   "cell_type": "code",
   "execution_count": null,
   "id": "290ec3a7",
   "metadata": {},
   "outputs": [],
   "source": [
    "df_data_all_states = pd.DataFrame(response_all_states.json()[\"data\"])\n",
    "df_data_all_states"
   ]
  },
  {
   "cell_type": "markdown",
   "id": "598877a3",
   "metadata": {},
   "source": [
    "Our resulting dataframe has the same columns as before, but since we did not \n",
    "ask for a specific state, we got all of them. \n",
    "\n",
    "### Deriving New Metrics\n",
    "\n",
    "Since the data is in a data frame, we can manipulate it a variety of ways. For\n",
    "example, we could add a column for the ratio of change in mortality to number\n",
    "of households, then see which states have the highest value for that derived\n",
    "metric."
   ]
  },
  {
   "cell_type": "code",
   "execution_count": null,
   "id": "0380351f",
   "metadata": {},
   "outputs": [],
   "source": [
    "df_data_all_states[\"mortality_per_household\"] = (\n",
    "    df_data_all_states[\"premature_mortality_incidence_delta\"] / df_data_all_states[\"number_of_households\"]\n",
    ")\n",
    "\n",
    "df_data_all_states.nlargest(10, \"mortality_per_household\")"
   ]
  },
  {
   "cell_type": "markdown",
   "id": "7689c762",
   "metadata": {},
   "source": [
    "## County-by-County Data in New Jersey\n",
    "\n",
    "Just as in the previous examples, we pass in a single metric (premature mortality), a single upgrade (a medium\n",
    "efficiency heat pump), a state (New Jersey), and a value of \\\"*\\\" for the county. This gives us results for all counties\n",
    "in New Jersey. For each county, we get the nationwide effects, just as we did for the Wisconsin and all states examples."
   ]
  },
  {
   "cell_type": "code",
   "execution_count": null,
   "id": "6d25841e",
   "metadata": {},
   "outputs": [],
   "source": [
    "payload_nj_counties = {\n",
    "    \"metrics\": [\"premature_mortality_incidence_delta\"],\n",
    "    \"upgrade\": \"med_eff_hp_hers_sizing_no_setback\",\n",
    "    \"state\": \"NJ\",\n",
    "    \"county_fips\": \"*\"\n",
    "}\n",
    "\n",
    "response_nj_counties = requests.post(URL, json=payload_nj_counties, headers=headers)"
   ]
  },
  {
   "cell_type": "code",
   "execution_count": null,
   "id": "639ba028",
   "metadata": {},
   "outputs": [],
   "source": [
    "df_data_nj_counties = pd.DataFrame(response_nj_counties.json()[\"data\"])\n",
    "df_data_nj_counties"
   ]
  },
  {
   "cell_type": "markdown",
   "id": "4c712d08",
   "metadata": {},
   "source": [
    "### Comparing to Statewide\n",
    "\n",
    "The data we got in our last request was just for the state of New Jersey, and was disaggreated\n",
    "by county. So if we add up the effects of all of the counties, they should add up to the statewide\n",
    "number we got for New Jersey when we did the query for all states. We can verify this now."
   ]
  },
  {
   "cell_type": "code",
   "execution_count": null,
   "id": "047424fd",
   "metadata": {},
   "outputs": [],
   "source": [
    "statewide_nj_mortality = df_data_all_states[df_data_all_states[\"state\"] == 'NJ'][\"premature_mortality_incidence_delta\"].iloc[0]\n",
    "sum_of_nj_county_mortality = df_data_nj_counties[\"premature_mortality_incidence_delta\"].sum()\n",
    "\n",
    "f\"At the state level: {statewide_nj_mortality:.1f}; Summed over counties: {sum_of_nj_county_mortality:.1f}.\""
   ]
  },
  {
   "cell_type": "markdown",
   "id": "3e69cdb4",
   "metadata": {},
   "source": [
    "## County by County Data in North Dakota\n",
    "\n",
    "We can repeat the query we did in New Jersey for North Dakota."
   ]
  },
  {
   "cell_type": "code",
   "execution_count": null,
   "id": "d9183a7b",
   "metadata": {},
   "outputs": [],
   "source": [
    "payload_nd_counties = {\n",
    "    \"metrics\": [\"premature_mortality_incidence_delta\"],\n",
    "    \"upgrade\": \"med_eff_hp_hers_sizing_no_setback\",\n",
    "    \"state\": \"ND\",\n",
    "    \"county_fips\": \"*\"\n",
    "}\n",
    "\n",
    "response_nd_counties = requests.post(URL, json=payload_nd_counties, headers=headers)"
   ]
  },
  {
   "cell_type": "markdown",
   "id": "6cbe2c96",
   "metadata": {},
   "source": [
    "### Any Warnings?\n",
    "\n",
    "In earlier examples, we always just grabbed the `data` component out of the response, but we never\n",
    "checked what else might be there. Let's do that."
   ]
  },
  {
   "cell_type": "code",
   "execution_count": null,
   "id": "eccd6394",
   "metadata": {},
   "outputs": [],
   "source": [
    "response_nd_counties_json = response_nd_counties.json()\n",
    "\n",
    "response_nd_counties_json.keys()"
   ]
  },
  {
   "cell_type": "markdown",
   "id": "ef7fa56f",
   "metadata": {},
   "source": [
    "We can check an earlier response and see if warnings were also there."
   ]
  },
  {
   "cell_type": "code",
   "execution_count": null,
   "id": "f9ca8c08",
   "metadata": {},
   "outputs": [],
   "source": [
    "response_nj_counties.json().keys()"
   ]
  },
  {
   "cell_type": "markdown",
   "id": "6980a586",
   "metadata": {},
   "source": [
    "There were no warnings in the the earlier calls. Let's see what warnings were present in this one."
   ]
  },
  {
   "cell_type": "code",
   "execution_count": null,
   "id": "3a225045",
   "metadata": {},
   "outputs": [],
   "source": [
    "response_nd_counties.json()[\"warnings\"]"
   ]
  },
  {
   "cell_type": "markdown",
   "id": "d83afe2d",
   "metadata": {},
   "source": [
    "### Look at the Data in Light of Warnings\n",
    "\n",
    "OK, so now we know what the warning was, and when we look in the data that comes back,\n",
    "we can heed the warning. First we will look at all counties, then we will restrict our attention\n",
    "to those with at least the recommended sample size of 5,000."
   ]
  },
  {
   "cell_type": "code",
   "execution_count": null,
   "id": "878a23f3",
   "metadata": {},
   "outputs": [],
   "source": [
    "df_data_nd_counties = pd.DataFrame(response_nd_counties.json()[\"data\"])\n",
    "df_data_nd_counties"
   ]
  },
  {
   "cell_type": "code",
   "execution_count": null,
   "id": "8d5f6a64",
   "metadata": {},
   "outputs": [],
   "source": [
    "df_data_nd_counties[df_data_nd_counties[\"number_of_households\"] >= 5000]"
   ]
  },
  {
   "cell_type": "markdown",
   "id": "c9b5c1e4",
   "metadata": {},
   "source": [
    "## Query Multiple Metrics in Multiple States\n",
    "\n",
    "Sometimes we want bulk data, not just data for one metric or one state. In this\n",
    "example, we will query several metrics, one for each kind of emissions the model tracks, across three states, New York,\n",
    "New Jersey, and Connecticut. We can do that by passing multiple values for these arguments to\n",
    "the API."
   ]
  },
  {
   "cell_type": "code",
   "execution_count": null,
   "id": "fd08bac9",
   "metadata": {},
   "outputs": [],
   "source": [
    "payload_bulk = {\n",
    "    \"metrics\": [\"pm25-pri_kg_delta\", \"nh3_kg_delta\", \"nox_kg_delta\", \"voc_kg_delta\", \"so2_kg_delta\"],\n",
    "    \"upgrade\": \"med_eff_hp_hers_sizing_no_setback\",\n",
    "    \"state\": [\"NY\", \"NJ\", \"CT\"]\n",
    "}"
   ]
  },
  {
   "cell_type": "code",
   "execution_count": null,
   "id": "182dbe37",
   "metadata": {},
   "outputs": [],
   "source": [
    "response_bulk = requests.post(URL, json=payload_bulk, headers=headers)"
   ]
  },
  {
   "cell_type": "code",
   "execution_count": null,
   "id": "b60d00f2",
   "metadata": {},
   "outputs": [],
   "source": [
    "df_data_bulk = pd.DataFrame(response_bulk.json()[\"data\"])\n",
    "df_data_bulk"
   ]
  },
  {
   "cell_type": "markdown",
   "id": "f9331b35",
   "metadata": {},
   "source": [
    "Notice that now we have three rows, one for each state we requested, and instead of one metric column like we have gotten in the past,\n",
    "we have several, one for each emission metric."
   ]
  },
  {
   "cell_type": "markdown",
   "id": "945bab26",
   "metadata": {},
   "source": [
    "## Grouping Results\n",
    "\n",
    "In this example, instead of aggregating results for all homes together,\n",
    "we will group the homes by ranges of square footage."
   ]
  },
  {
   "cell_type": "code",
   "execution_count": null,
   "id": "c7254f2d",
   "metadata": {},
   "outputs": [],
   "source": [
    "payload_groups = {\n",
    "    \"metrics\": \"premature_mortality_incidence_delta\",\n",
    "    \"upgrade\": \"med_eff_hp_hers_sizing_no_setback\",\n",
    "    \"state\": \"WI\",\n",
    "    \"groupby\": \"in_sqft_bin\"\n",
    "}\n",
    "\n",
    "response_groups = requests.post(URL, json=payload_groups, headers=headers)\n"
   ]
  },
  {
   "cell_type": "markdown",
   "id": "6640e84f",
   "metadata": {},
   "source": [
    "The result we got back contains data grouped into bins based on the square footage of homes."
   ]
  },
  {
   "cell_type": "code",
   "execution_count": null,
   "id": "2a2ce9b4",
   "metadata": {},
   "outputs": [],
   "source": [
    "df_groups = pd.DataFrame(response_groups.json()[\"data\"])\n",
    "df_groups"
   ]
  },
  {
   "cell_type": "markdown",
   "id": "8a9cf716",
   "metadata": {},
   "source": [
    "If we sum up the impact, we will find that it adds up to the number from our very first query at the top of this notebook."
   ]
  },
  {
   "cell_type": "code",
   "execution_count": null,
   "id": "4e67d269",
   "metadata": {},
   "outputs": [],
   "source": [
    "grouped_sum = df_groups[\"premature_mortality_incidence_delta\"].sum()\n",
    "f\"{grouped_sum:.1f}\""
   ]
  },
  {
   "cell_type": "markdown",
   "id": "4dae6827",
   "metadata": {},
   "source": [
    "## Combine our Data with U.S. Census Maps\n",
    "\n",
    "In this final section, we will import an library called `censusdis` that will let us grab\n",
    "U.S. Census data. If you don't have this in your virtual environment, you can \n",
    "\n",
    "`pip install censusdis`\n",
    "\n",
    "to get it.\n",
    "\n",
    "### Additional Imports"
   ]
  },
  {
   "cell_type": "code",
   "execution_count": null,
   "id": "d0f4f7d6",
   "metadata": {},
   "outputs": [],
   "source": [
    "import censusdis.data as ced\n",
    "from censusdis.datasets import ACS5\n",
    "import censusdis.maps as cem\n",
    "from censusdis.states import NJ"
   ]
  },
  {
   "cell_type": "markdown",
   "id": "ce5a9bfa",
   "metadata": {},
   "source": [
    "### Download Map Data and Merge"
   ]
  },
  {
   "cell_type": "code",
   "execution_count": null,
   "id": "92b36142",
   "metadata": {},
   "outputs": [],
   "source": [
    "gdf_nj_counties = ced.download(\n",
    "    ACS5, 2023,\n",
    "    [\"NAME\"],\n",
    "    state=NJ, county=\"*\",\n",
    "    with_geometry=True\n",
    ")"
   ]
  },
  {
   "cell_type": "code",
   "execution_count": null,
   "id": "d07ae82a",
   "metadata": {},
   "outputs": [],
   "source": [
    "gdf_map = gdf_nj_counties.merge(df_data_nj_counties, left_on=\"COUNTY\", right_on=\"county\")"
   ]
  },
  {
   "cell_type": "markdown",
   "id": "a7838f35",
   "metadata": {},
   "source": [
    "### Plot the Map"
   ]
  },
  {
   "cell_type": "code",
   "execution_count": null,
   "id": "03a94766",
   "metadata": {},
   "outputs": [],
   "source": [
    "ax = cem.plot_map(\n",
    "    gdf_map,\n",
    "    \"premature_mortality_incidence_delta\",\n",
    "    cmap=\"Reds\",\n",
    "    edgecolor=\"darkgray\",\n",
    "    figsize=(8, 8),\n",
    "    legend=True\n",
    ")\n",
    "\n",
    "ax.set_title(\n",
    "    \"Change in Annual Premature Mortality Incidence\\n\"\n",
    "    \"Due to Heat Pump Installation by County in NJ\");"
   ]
  },
  {
   "cell_type": "code",
   "execution_count": null,
   "id": "b8e4dea9",
   "metadata": {},
   "outputs": [],
   "source": []
  }
 ],
 "metadata": {
  "kernelspec": {
   "display_name": "Python 3 (ipykernel)",
   "language": "python",
   "name": "python3"
  },
  "language_info": {
   "codemirror_mode": {
    "name": "ipython",
    "version": 3
   },
   "file_extension": ".py",
   "mimetype": "text/x-python",
   "name": "python",
   "nbconvert_exporter": "python",
   "pygments_lexer": "ipython3",
   "version": "3.12.4"
  }
 },
 "nbformat": 4,
 "nbformat_minor": 5
}
