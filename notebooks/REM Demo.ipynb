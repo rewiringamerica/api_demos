{
 "cells": [
  {
   "cell_type": "markdown",
   "id": "15765978-ee13-4139-969f-440222df8830",
   "metadata": {},
   "source": [
    "# REM API Demo With `requests`\n",
    "\n",
    "This notebook demonstrates how we can call the REM API to get an estimate\n",
    "for the savings we can expect if we make an electrical upgrade to a home\n",
    "at a particular address.\n",
    "\n",
    "## Imports and Configuration"
   ]
  },
  {
   "cell_type": "code",
   "execution_count": 1,
   "id": "27e49c93-57d7-4ee9-bb54-623b50e4e87c",
   "metadata": {},
   "outputs": [],
   "source": [
    "import requests\n",
    "from pathlib import Path"
   ]
  },
  {
   "cell_type": "code",
   "execution_count": 2,
   "id": "cecd5ef2-6a34-4752-9899-fc3fe519c3d9",
   "metadata": {},
   "outputs": [],
   "source": [
    "HOST = \"https://api.rewiringamerica.org\"\n",
    "REM_ADDRESS_URL = f\"{HOST}/api/v1/rem/address\"\n",
    "\n",
    "API_KEY = None  # Put your API key here, or better yet in the file ~/.rwapi/api_key.txt"
   ]
  },
  {
   "cell_type": "code",
   "execution_count": 3,
   "id": "654ba342-e8d5-480b-9bcc-cd9e226b1122",
   "metadata": {},
   "outputs": [],
   "source": [
    "if API_KEY is None:\n",
    "    api_key_path = Path.home() / \".rwapi\" / \"api_key.txt\"\n",
    "\n",
    "    if api_key_path.is_file():\n",
    "        with open(api_key_path) as f:\n",
    "            API_KEY = f.read().strip()"
   ]
  },
  {
   "cell_type": "markdown",
   "id": "f8f7ba2e-2cc3-4bb4-88f2-9c76c4c97e1e",
   "metadata": {},
   "source": [
    "## Parameters\n",
    "\n",
    "Address we are interested in and the upgrade we want to do."
   ]
  },
  {
   "cell_type": "code",
   "execution_count": 4,
   "id": "58f2da86-6a32-448d-83a5-ba487e6c54a8",
   "metadata": {},
   "outputs": [],
   "source": [
    "address = '8009 Belmont Ave., Lubbock, TX 79424'\n",
    "upgrade = \"high_eff_hp_elec_backup\"\n",
    "heating_fuel = 'natural_gas'"
   ]
  },
  {
   "cell_type": "markdown",
   "id": "2c5a5bea-03cf-4508-a515-f682c2b641ec",
   "metadata": {},
   "source": [
    "## Make the Request"
   ]
  },
  {
   "cell_type": "code",
   "execution_count": 5,
   "id": "2aa2f974-6382-45db-9b8a-bc127873f924",
   "metadata": {},
   "outputs": [],
   "source": [
    "headers = {\"Authorization\": f\"Bearer {API_KEY}\"}\n",
    "\n",
    "response = requests.get(\n",
    "    url=REM_ADDRESS_URL,\n",
    "    headers=headers,\n",
    "    params=dict(\n",
    "        address=address, upgrade=upgrade, heating_fuel=heating_fuel\n",
    "    )\n",
    ")"
   ]
  },
  {
   "cell_type": "markdown",
   "id": "26dafe7b-8be0-4c8e-8e41-a02bad6115ff",
   "metadata": {},
   "source": [
    "## Pull out the results\n",
    "\n",
    "We are specifically interested in the total dollar savings."
   ]
  },
  {
   "cell_type": "code",
   "execution_count": 6,
   "id": "90889101-3961-4c23-841c-f6bfb994cee1",
   "metadata": {},
   "outputs": [],
   "source": [
    "data = response.json()"
   ]
  },
  {
   "cell_type": "code",
   "execution_count": 7,
   "id": "6aab1b8e-c3d9-4d0f-a7d4-1a86f1543def",
   "metadata": {},
   "outputs": [
    {
     "data": {
      "text/plain": [
       "'Expected annual savings: $630.39'"
      ]
     },
     "execution_count": 7,
     "metadata": {},
     "output_type": "execute_result"
    }
   ],
   "source": [
    "annual_savings = -data['fuel_results']['total']['delta']['cost']['mean']['value']\n",
    "\n",
    "f\"Expected annual savings: ${annual_savings:.2f}\""
   ]
  },
  {
   "cell_type": "markdown",
   "id": "5f962705",
   "metadata": {},
   "source": [
    "## Modeling Only Baseline in REM\n",
    "\n",
    "REM typically provides three estimates for a home: one without an upgrade, one with the requested upgrade, and the difference (delta) between them.\n",
    "For a detailed explanation of these statistics, refer to the [All About REM Statistics notebook](https://github.com/rewiringamerica/api_demos/blob/main/notebooks/All%20About%20REM%20Statistics.ipynb).\n",
    "\n",
    "A special case occurs when `baseline` is requested as the upgrade. In this case, REM returns a subset of the expected data structure.\n",
    "For each `fuel_type` within `fuel_results`, the `upgrade` and `delta` fields will not be populated. \n",
    "Requesting `baseline` tells REM to perform estimation without applying any upgrades.\n",
    "\n",
    "Performing a request with only `baseline` can be done similarly to other requests."
   ]
  },
  {
   "cell_type": "code",
   "execution_count": null,
   "id": "d697ac84",
   "metadata": {},
   "outputs": [],
   "source": [
    "headers = {\"Authorization\": f\"Bearer {API_KEY}\"}\n",
    "\n",
    "response = requests.get(\n",
    "    url=REM_ADDRESS_URL,\n",
    "    headers=headers,\n",
    "    params=dict(\n",
    "        address=address, upgrade=upgrade, heating_fuel=heating_fuel\n",
    "    )\n",
    ")"
   ]
  },
  {
   "cell_type": "markdown",
   "id": "31758a83",
   "metadata": {},
   "source": [
    "### Pull out the results for a baseline request\n",
    "\n",
    "We will extract the `fuel_results`, as we have done previously. In the response, `baseline` contains valid values, while `upgrade` and `delta` are null, as expected since no upgrade was applied to the home."
   ]
  },
  {
   "cell_type": "code",
   "execution_count": null,
   "id": "1831a4bd",
   "metadata": {},
   "outputs": [],
   "source": [
    "data = response.json()\n",
    "fuel_results = data[\"fuel_results\"]"
   ]
  },
  {
   "cell_type": "code",
   "execution_count": null,
   "id": "cf88eec5",
   "metadata": {},
   "outputs": [],
   "source": [
    "fuel_results['fuel_oil']['baseline']"
   ]
  },
  {
   "cell_type": "code",
   "execution_count": null,
   "id": "5e302eba",
   "metadata": {},
   "outputs": [],
   "source": [
    "fuel_results['fuel_oil']['upgrade']"
   ]
  },
  {
   "cell_type": "code",
   "execution_count": null,
   "id": "f32a8ed4",
   "metadata": {},
   "outputs": [],
   "source": [
    "fuel_results['fuel_oil']['delta']"
   ]
  }
 ],
 "metadata": {
  "kernelspec": {
   "display_name": ".venv (3.11.10)",
   "language": "python",
   "name": "python3"
  },
  "language_info": {
   "codemirror_mode": {
    "name": "ipython",
    "version": 3
   },
   "file_extension": ".py",
   "mimetype": "text/x-python",
   "name": "python",
   "nbconvert_exporter": "python",
   "pygments_lexer": "ipython3",
   "version": "3.11.10"
  }
 },
 "nbformat": 4,
 "nbformat_minor": 5
}
