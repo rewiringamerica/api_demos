{
 "cells": [
  {
   "cell_type": "markdown",
   "id": "15765978-ee13-4139-969f-440222df8830",
   "metadata": {},
   "source": [
    "# REM API Demo With `requests`\n",
    "\n",
    "This notebook demonstrates how we can call the REM API to get an estimate\n",
    "for the savings we can expect if we make an electrical upgrade to a home\n",
    "at a particular address.\n",
    "\n",
    "## Imports and Configuration"
   ]
  },
  {
   "cell_type": "code",
   "execution_count": 1,
   "id": "27e49c93-57d7-4ee9-bb54-623b50e4e87c",
   "metadata": {},
   "outputs": [],
   "source": [
    "import requests\n",
    "from pathlib import Path\n",
    "import pandas as pd"
   ]
  },
  {
   "cell_type": "code",
   "execution_count": 2,
   "id": "cecd5ef2-6a34-4752-9899-fc3fe519c3d9",
   "metadata": {},
   "outputs": [],
   "source": [
    "HOST = \"https://api.rewiringamerica.org\"\n",
    "REM_ADDRESS_URL = f\"{HOST}/api/v1/rem/address\"\n",
    "\n",
    "API_KEY = None  # Put your API key here, or better yet in the file ~/.rwapi/api_key.txt"
   ]
  },
  {
   "cell_type": "code",
   "execution_count": 3,
   "id": "654ba342-e8d5-480b-9bcc-cd9e226b1122",
   "metadata": {},
   "outputs": [],
   "source": [
    "if API_KEY is None:\n",
    "    api_key_path = Path.home() / \".rwapi\" / \"api_key.txt\"\n",
    "\n",
    "    if api_key_path.is_file():\n",
    "        with open(api_key_path) as f:\n",
    "            API_KEY = f.read().strip()"
   ]
  },
  {
   "cell_type": "markdown",
   "id": "f8f7ba2e-2cc3-4bb4-88f2-9c76c4c97e1e",
   "metadata": {},
   "source": [
    "## Parameters\n",
    "\n",
    "Address we are interested in and the upgrade we want to do."
   ]
  },
  {
   "cell_type": "code",
   "execution_count": 4,
   "id": "58f2da86-6a32-448d-83a5-ba487e6c54a8",
   "metadata": {},
   "outputs": [],
   "source": [
    "address = \"8009 Belmont Ave., Lubbock, TX 79424\"\n",
    "upgrade = \"hvac__heat_pump_seer24_hspf13\"\n",
    "heating_fuel = \"natural_gas\""
   ]
  },
  {
   "cell_type": "markdown",
   "id": "2c5a5bea-03cf-4508-a515-f682c2b641ec",
   "metadata": {},
   "source": [
    "## Make the Request"
   ]
  },
  {
   "cell_type": "code",
   "execution_count": 5,
   "id": "2aa2f974-6382-45db-9b8a-bc127873f924",
   "metadata": {},
   "outputs": [],
   "source": [
    "headers = {\"Authorization\": f\"Bearer {API_KEY}\"}\n",
    "\n",
    "response = requests.get(\n",
    "    url=REM_ADDRESS_URL,\n",
    "    headers=headers,\n",
    "    params=dict(address=address, upgrade=upgrade, heating_fuel=heating_fuel),\n",
    ")"
   ]
  },
  {
   "cell_type": "markdown",
   "id": "26dafe7b-8be0-4c8e-8e41-a02bad6115ff",
   "metadata": {},
   "source": [
    "## Pull out the results\n",
    "\n",
    "We are specifically interested in the total dollar savings."
   ]
  },
  {
   "cell_type": "code",
   "execution_count": 6,
   "id": "90889101-3961-4c23-841c-f6bfb994cee1",
   "metadata": {},
   "outputs": [],
   "source": [
    "data = response.json()"
   ]
  },
  {
   "cell_type": "code",
   "execution_count": 7,
   "id": "6aab1b8e-c3d9-4d0f-a7d4-1a86f1543def",
   "metadata": {
    "scrolled": true
   },
   "outputs": [
    {
     "data": {
      "text/plain": [
       "'Expected annual savings: $659.07'"
      ]
     },
     "execution_count": 7,
     "metadata": {},
     "output_type": "execute_result"
    }
   ],
   "source": [
    "annual_savings = -data[\"fuel_results\"][\"total\"][\"delta\"][\"cost\"][\"mean\"][\"value\"]\n",
    "\n",
    "f\"Expected annual savings: ${annual_savings:.2f}\""
   ]
  },
  {
   "cell_type": "markdown",
   "id": "5f962705",
   "metadata": {},
   "source": [
    "## Modeling Only Baseline in REM\n",
    "\n",
    "REM typically provides three estimates for a home: one without an upgrade, one with the requested upgrade, and the difference (delta) between them.\n",
    "For a detailed explanation of these statistics, refer to the [All About REM Statistics notebook](https://github.com/rewiringamerica/api_demos/blob/main/notebooks/All%20About%20REM%20Statistics.ipynb).\n",
    "\n",
    "A special case occurs when `baseline` is requested as the upgrade. In this case, REM returns a subset of the expected data structure.\n",
    "For each `fuel_type` within `fuel_results`, the `upgrade` and `delta` fields will not be populated. \n",
    "Requesting `baseline` tells REM to perform estimation without applying any upgrades.\n",
    "\n",
    "Performing a request with only `baseline` can be done similarly to other requests."
   ]
  },
  {
   "cell_type": "code",
   "execution_count": 8,
   "id": "d697ac84",
   "metadata": {},
   "outputs": [],
   "source": [
    "headers = {\"Authorization\": f\"Bearer {API_KEY}\"}\n",
    "\n",
    "response = requests.get(\n",
    "    url=REM_ADDRESS_URL,\n",
    "    headers=headers,\n",
    "    params=dict(address=address, upgrade=\"baseline\", heating_fuel=heating_fuel),\n",
    ")"
   ]
  },
  {
   "cell_type": "markdown",
   "id": "31758a83",
   "metadata": {},
   "source": [
    "### Pull out the results for a baseline request\n",
    "\n",
    "We will extract the `fuel_results`, as we have done previously. In the response, `baseline` contains valid values, while `upgrade` and `delta` are null, as expected since no upgrade was applied to the home."
   ]
  },
  {
   "cell_type": "code",
   "execution_count": 9,
   "id": "1831a4bd",
   "metadata": {},
   "outputs": [],
   "source": [
    "data = response.json()\n",
    "fuel_results = data[\"fuel_results\"]"
   ]
  },
  {
   "cell_type": "code",
   "execution_count": 10,
   "id": "cf88eec5",
   "metadata": {},
   "outputs": [
    {
     "data": {
      "text/html": [
       "<div>\n",
       "<style scoped>\n",
       "    .dataframe tbody tr th:only-of-type {\n",
       "        vertical-align: middle;\n",
       "    }\n",
       "\n",
       "    .dataframe tbody tr th {\n",
       "        vertical-align: top;\n",
       "    }\n",
       "\n",
       "    .dataframe thead th {\n",
       "        text-align: right;\n",
       "    }\n",
       "</style>\n",
       "<table border=\"1\" class=\"dataframe\">\n",
       "  <thead>\n",
       "    <tr style=\"text-align: right;\">\n",
       "      <th></th>\n",
       "      <th>metric</th>\n",
       "      <th>stat</th>\n",
       "      <th>value</th>\n",
       "      <th>unit</th>\n",
       "    </tr>\n",
       "  </thead>\n",
       "  <tbody>\n",
       "    <tr>\n",
       "      <th>0</th>\n",
       "      <td>energy</td>\n",
       "      <td>mean</td>\n",
       "      <td>818.0488</td>\n",
       "      <td>therm</td>\n",
       "    </tr>\n",
       "    <tr>\n",
       "      <th>1</th>\n",
       "      <td>energy</td>\n",
       "      <td>median</td>\n",
       "      <td>773.5015</td>\n",
       "      <td>therm</td>\n",
       "    </tr>\n",
       "    <tr>\n",
       "      <th>2</th>\n",
       "      <td>energy</td>\n",
       "      <td>percentile_20</td>\n",
       "      <td>558.5560</td>\n",
       "      <td>therm</td>\n",
       "    </tr>\n",
       "    <tr>\n",
       "      <th>3</th>\n",
       "      <td>energy</td>\n",
       "      <td>percentile_80</td>\n",
       "      <td>1023.5165</td>\n",
       "      <td>therm</td>\n",
       "    </tr>\n",
       "    <tr>\n",
       "      <th>4</th>\n",
       "      <td>emissions</td>\n",
       "      <td>mean</td>\n",
       "      <td>5464.4159</td>\n",
       "      <td>kgCO2e</td>\n",
       "    </tr>\n",
       "    <tr>\n",
       "      <th>5</th>\n",
       "      <td>emissions</td>\n",
       "      <td>median</td>\n",
       "      <td>5166.8484</td>\n",
       "      <td>kgCO2e</td>\n",
       "    </tr>\n",
       "    <tr>\n",
       "      <th>6</th>\n",
       "      <td>emissions</td>\n",
       "      <td>percentile_20</td>\n",
       "      <td>3731.0518</td>\n",
       "      <td>kgCO2e</td>\n",
       "    </tr>\n",
       "    <tr>\n",
       "      <th>7</th>\n",
       "      <td>emissions</td>\n",
       "      <td>percentile_80</td>\n",
       "      <td>6836.9028</td>\n",
       "      <td>kgCO2e</td>\n",
       "    </tr>\n",
       "    <tr>\n",
       "      <th>8</th>\n",
       "      <td>cost</td>\n",
       "      <td>mean</td>\n",
       "      <td>1297.4921</td>\n",
       "      <td>$</td>\n",
       "    </tr>\n",
       "    <tr>\n",
       "      <th>9</th>\n",
       "      <td>cost</td>\n",
       "      <td>median</td>\n",
       "      <td>1241.7834</td>\n",
       "      <td>$</td>\n",
       "    </tr>\n",
       "    <tr>\n",
       "      <th>10</th>\n",
       "      <td>cost</td>\n",
       "      <td>percentile_20</td>\n",
       "      <td>972.9829</td>\n",
       "      <td>$</td>\n",
       "    </tr>\n",
       "    <tr>\n",
       "      <th>11</th>\n",
       "      <td>cost</td>\n",
       "      <td>percentile_80</td>\n",
       "      <td>1554.4402</td>\n",
       "      <td>$</td>\n",
       "    </tr>\n",
       "  </tbody>\n",
       "</table>\n",
       "</div>"
      ],
      "text/plain": [
       "       metric           stat      value    unit\n",
       "0      energy           mean   818.0488   therm\n",
       "1      energy         median   773.5015   therm\n",
       "2      energy  percentile_20   558.5560   therm\n",
       "3      energy  percentile_80  1023.5165   therm\n",
       "4   emissions           mean  5464.4159  kgCO2e\n",
       "5   emissions         median  5166.8484  kgCO2e\n",
       "6   emissions  percentile_20  3731.0518  kgCO2e\n",
       "7   emissions  percentile_80  6836.9028  kgCO2e\n",
       "8        cost           mean  1297.4921       $\n",
       "9        cost         median  1241.7834       $\n",
       "10       cost  percentile_20   972.9829       $\n",
       "11       cost  percentile_80  1554.4402       $"
      ]
     },
     "execution_count": 10,
     "metadata": {},
     "output_type": "execute_result"
    }
   ],
   "source": [
    "# Convert the baseline from JSON to a pandas data frame for further\n",
    "# analysis.\n",
    "baseline = fuel_results[heating_fuel][\"baseline\"]\n",
    "\n",
    "\n",
    "def stats_df(baseline):\n",
    "    return pd.DataFrame(\n",
    "        [\n",
    "            {\"metric\": metric, \"stat\": stat} | value\n",
    "            for metric, stats in baseline.items()\n",
    "            for stat, value in stats.items()\n",
    "        ]\n",
    "    )\n",
    "\n",
    "\n",
    "stats_df(baseline)"
   ]
  },
  {
   "cell_type": "code",
   "execution_count": 11,
   "id": "5e302eba",
   "metadata": {},
   "outputs": [],
   "source": [
    "fuel_results[heating_fuel][\"upgrade\"]"
   ]
  },
  {
   "cell_type": "code",
   "execution_count": 12,
   "id": "f32a8ed4",
   "metadata": {},
   "outputs": [],
   "source": [
    "fuel_results[heating_fuel][\"delta\"]"
   ]
  },
  {
   "cell_type": "markdown",
   "id": "06fd057d-fbc7-470a-b834-18ff9dedae82",
   "metadata": {},
   "source": [
    "## Modeling Water Heater Upgrades\n",
    "\n",
    "The `heating_fuel` of a home is always required by `/api/v1/rem/address`. When you request a water heater upgrade, you must also provide the fuel type of the existing water heater in the `water_heater_fuel` parameter."
   ]
  },
  {
   "cell_type": "code",
   "execution_count": 13,
   "id": "e39346ac-4825-4f21-a1e8-74c004629005",
   "metadata": {},
   "outputs": [
    {
     "data": {
      "text/plain": [
       "'Expected annual savings: $225.26'"
      ]
     },
     "execution_count": 13,
     "metadata": {},
     "output_type": "execute_result"
    }
   ],
   "source": [
    "# Model a heat pump water heater upgrade\n",
    "\n",
    "response = requests.get(\n",
    "    url=REM_ADDRESS_URL,\n",
    "    headers=headers,\n",
    "    params=dict(address=address, upgrade=\"water_heater__heat_pump_uef3.35\", heating_fuel=heating_fuel, water_heater_fuel=\"electricity\"),\n",
    ")\n",
    "data = response.json()\n",
    "annual_savings = -data[\"fuel_results\"][\"total\"][\"delta\"][\"cost\"][\"mean\"][\"value\"]\n",
    "\n",
    "f\"Expected annual savings: ${annual_savings:.2f}\""
   ]
  },
  {
   "cell_type": "markdown",
   "id": "41a4aca4-8ebe-4ff0-9631-ac50f02a791a",
   "metadata": {},
   "source": [
    "You can optionally set `water_heater_fuel` for other upgrades as well. This can help make the results more accurate, by restricting the modeled homes to those with water heaters fueled in the same way.\n",
    "\n",
    "However, if your water heater fuel type is relatively unusual for homes in your area with your heating fuel type, there is a chance the model won't be able to make a good prediction and you'll get an error message.\n",
    "\n",
    "If this happens, we recommend not setting the water heater fuel type when it's not required."
   ]
  },
  {
   "cell_type": "code",
   "execution_count": 14,
   "id": "8806810d-aa5f-4fff-b101-63347bff120b",
   "metadata": {},
   "outputs": [
    {
     "name": "stdout",
     "output_type": "stream",
     "text": [
      "<Response [400]>\n"
     ]
    },
    {
     "data": {
      "text/plain": [
       "'{\"detail\":\"The current version of this API cannot predict energy savings for the provided address. Omitting water_heater_fuel may help, by allowing more samples to match the characteristics of the provided home.\"}'"
      ]
     },
     "execution_count": 14,
     "metadata": {},
     "output_type": "execute_result"
    }
   ],
   "source": [
    "# Attempt to model a home with an uncommon heating fuel and water heater fuel combination.\n",
    "\n",
    "response = requests.get(\n",
    "    url=REM_ADDRESS_URL,\n",
    "    headers=headers,\n",
    "    # It's very unusual to use propane for home heating with natural gas for water heating.\n",
    "    params=dict(address=address, upgrade=upgrade, heating_fuel=\"propane\", water_heater_fuel=\"natural_gas\"),\n",
    ")\n",
    "\n",
    "print(response)\n",
    "\n",
    "# The error message will let you know if the water heater fuel is likely to be the problem.\n",
    "response.text"
   ]
  },
  {
   "cell_type": "code",
   "execution_count": 15,
   "id": "bc3c5097-c3ad-48bf-85d1-318e79115f53",
   "metadata": {},
   "outputs": [
    {
     "data": {
      "text/plain": [
       "<Response [200]>"
      ]
     },
     "execution_count": 15,
     "metadata": {},
     "output_type": "execute_result"
    }
   ],
   "source": [
    "# Omit the water heater fuel to get results.\n",
    "response = requests.get(\n",
    "    url=REM_ADDRESS_URL,\n",
    "    headers=headers,\n",
    "    params=dict(address=address, upgrade=upgrade, heating_fuel=\"propane\"),\n",
    ")\n",
    "\n",
    "response"
   ]
  },
  {
   "cell_type": "code",
   "execution_count": null,
   "id": "69ca2263-c886-4aca-a919-c545d9c566b2",
   "metadata": {},
   "outputs": [],
   "source": []
  }
 ],
 "metadata": {
  "kernelspec": {
   "display_name": "Python 3 (ipykernel)",
   "language": "python",
   "name": "python3"
  },
  "language_info": {
   "codemirror_mode": {
    "name": "ipython",
    "version": 3
   },
   "file_extension": ".py",
   "mimetype": "text/x-python",
   "name": "python",
   "nbconvert_exporter": "python",
   "pygments_lexer": "ipython3",
   "version": "3.13.1"
  }
 },
 "nbformat": 4,
 "nbformat_minor": 5
}
