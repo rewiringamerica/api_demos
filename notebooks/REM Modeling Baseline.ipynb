{
 "cells": [
  {
   "cell_type": "markdown",
   "id": "15765978-ee13-4139-969f-440222df8830",
   "metadata": {},
   "source": [
    "# Modeling Only Baseline in REM\n",
    "\n",
    "REM typically provides three estimates for a home: one without an upgrade, one with the requested upgrade, and the difference (delta) between them.\n",
    "For a detailed explanation of these statistics, refer to the [All About REM Statistics notebook](https://github.com/rewiringamerica/api_demos/blob/main/notebooks/All%20About%20REM%20Statistics.ipynb).\n",
    "\n",
    "A special case occurs when `baseline` is requested as the upgrade. In this case, REM returns a subset of the expected data structure.\n",
    "For each `fuel_type` within `fuel_results`, the `upgrade` and `delta` fields will not be populated. \n",
    "Requesting `baseline` tells REM to perform estimation without applying any upgrades.\n",
    "\n",
    "Performing a request with only `baseline` can be done similarly to other requests.\n",
    "\n",
    "## Imports and Configurations"
   ]
  },
  {
   "cell_type": "code",
   "execution_count": null,
   "id": "27e49c93-57d7-4ee9-bb54-623b50e4e87c",
   "metadata": {},
   "outputs": [],
   "source": [
    "import requests\n",
    "from pathlib import Path"
   ]
  },
  {
   "cell_type": "code",
   "execution_count": 7,
   "id": "cecd5ef2-6a34-4752-9899-fc3fe519c3d9",
   "metadata": {},
   "outputs": [],
   "source": [
    "HOST = \"https://api.rewiringamerica.org\"\n",
    "REM_ADDRESS_URL = f\"{HOST}/api/v1/rem/address\"\n",
    "\n",
    "API_KEY = None  # Put your API key here, or better yet in the file ~/.rwapi/api_key.txt"
   ]
  },
  {
   "cell_type": "code",
   "execution_count": 8,
   "id": "654ba342-e8d5-480b-9bcc-cd9e226b1122",
   "metadata": {},
   "outputs": [],
   "source": [
    "if API_KEY is None:\n",
    "    api_key_path = Path.home() / \".rwapi\" / \"api_key.txt\"\n",
    "\n",
    "    if api_key_path.is_file():\n",
    "        with open(api_key_path) as f:\n",
    "            API_KEY = f.read().strip()"
   ]
  },
  {
   "cell_type": "markdown",
   "id": "f8f7ba2e-2cc3-4bb4-88f2-9c76c4c97e1e",
   "metadata": {},
   "source": [
    "## Parameters\n",
    "\n",
    "We provide the address of interest and the known `fuel_oil`, just as we do for other requests. However, for the upgrade, we specify `baseline`."
   ]
  },
  {
   "cell_type": "code",
   "execution_count": 9,
   "id": "58f2da86-6a32-448d-83a5-ba487e6c54a8",
   "metadata": {},
   "outputs": [],
   "source": [
    "address = '165 Hope St, Providence, RI 02906'\n",
    "upgrade = 'baseline'\n",
    "heating_fuel = 'fuel_oil'"
   ]
  },
  {
   "cell_type": "markdown",
   "id": "2c5a5bea-03cf-4508-a515-f682c2b641ec",
   "metadata": {},
   "source": [
    "## Make the Request"
   ]
  },
  {
   "cell_type": "code",
   "execution_count": 10,
   "id": "2aa2f974-6382-45db-9b8a-bc127873f924",
   "metadata": {},
   "outputs": [],
   "source": [
    "headers = {\"Authorization\": f\"Bearer {API_KEY}\"}\n",
    "\n",
    "response = requests.get(\n",
    "    url=REM_ADDRESS_URL,\n",
    "    headers=headers,\n",
    "    params=dict(\n",
    "        address=address, upgrade=upgrade, heating_fuel=heating_fuel\n",
    "    )\n",
    ")"
   ]
  },
  {
   "cell_type": "code",
   "execution_count": null,
   "id": "064bddb1-9644-44d3-96de-4d7a070e2772",
   "metadata": {},
   "outputs": [],
   "source": [
    "response"
   ]
  },
  {
   "cell_type": "markdown",
   "id": "26dafe7b-8be0-4c8e-8e41-a02bad6115ff",
   "metadata": {},
   "source": [
    "## Pull out the results\n",
    "\n",
    "In the response, we see valid values for the `baseline`, while the `upgrade` and `delta` fields are `null` this is expected since no upgrade applied to the home."
   ]
  },
  {
   "cell_type": "code",
   "execution_count": 12,
   "id": "90889101-3961-4c23-841c-f6bfb994cee1",
   "metadata": {},
   "outputs": [],
   "source": [
    "data = response.json()"
   ]
  },
  {
   "cell_type": "code",
   "execution_count": 13,
   "id": "072bb768",
   "metadata": {},
   "outputs": [],
   "source": [
    "fuel_results = data[\"fuel_results\"]"
   ]
  },
  {
   "cell_type": "code",
   "execution_count": null,
   "id": "75dc5083",
   "metadata": {},
   "outputs": [],
   "source": [
    "fuel_results['fuel_oil']['baseline']"
   ]
  },
  {
   "cell_type": "code",
   "execution_count": null,
   "id": "4bbef08f",
   "metadata": {},
   "outputs": [],
   "source": [
    "fuel_results['fuel_oil']['upgrade']"
   ]
  },
  {
   "cell_type": "code",
   "execution_count": 16,
   "id": "2f7476c2",
   "metadata": {},
   "outputs": [],
   "source": [
    "fuel_results['fuel_oil']['delta']"
   ]
  }
 ],
 "metadata": {
  "language_info": {
   "name": "python"
  }
 },
 "nbformat": 4,
 "nbformat_minor": 2
}
